{
 "cells": [
  {
   "cell_type": "code",
   "execution_count": null,
   "id": "8b57dac2",
   "metadata": {},
   "outputs": [
    {
     "name": "stdout",
     "output_type": "stream",
     "text": [
      "WARNING:tensorflow:From c:\\Users\\rajap\\OneDrive\\Desktop\\New folder (6)\\14-Simple RNN\\venv\\lib\\site-packages\\keras\\src\\losses.py:2976: The name tf.losses.sparse_softmax_cross_entropy is deprecated. Please use tf.compat.v1.losses.sparse_softmax_cross_entropy instead.\n",
      "\n"
     ]
    }
   ],
   "source": [
    "# one hot encoding representation\n",
    "from tensorflow.keras.preprocessing.text import one_hot "
   ]
  },
  {
   "cell_type": "code",
   "execution_count": 2,
   "metadata": {},
   "outputs": [],
   "source": [
    "sentences = [\n",
    "    \"I love watching the sunset at the beach.\",\n",
    "    \"The weather is pleasant today.\",\n",
    "    \"She is reading a book in the library.\",\n",
    "    \"He goes to the gym every morning.\",\n",
    "    \"They are playing football in the park.\",\n",
    "    \"The dog barked loudly at the stranger.\",\n",
    "    \"My mother cooks delicious food.\",\n",
    "    \"We are learning about machine learning.\",\n",
    "    \"He bought a new laptop yesterday.\",\n",
    "    \"The cat is sleeping on the sofa.\",\n",
    "    \"I don’t like waking up early.\",\n",
    "    \"She smiled when she saw the flowers.\",\n",
    "    \"It is raining outside.\",\n",
    "    \"The train is late again.\",\n",
    "    \"He failed the test because he didn’t study.\",\n",
    "    \"I want to become a data scientist.\",\n",
    "    \"She dances beautifully.\",\n",
    "    \"The movie was very boring.\",\n",
    "    \"I forgot my umbrella at home.\",\n",
    "    \"The baby is crying loudly.\"\n",
    "]\n"
   ]
  },
  {
   "cell_type": "code",
   "execution_count": 15,
   "metadata": {},
   "outputs": [],
   "source": [
    "voc_size=10000\n",
    "one_hot_encoded=[one_hot(words,voc_size) for words in sentences]"
   ]
  },
  {
   "cell_type": "code",
   "execution_count": 16,
   "metadata": {},
   "outputs": [
    {
     "data": {
      "text/plain": [
       "[[1434, 1513, 4087, 791, 6844, 2530, 791, 3559],\n",
       " [791, 8805, 7674, 5011, 7559],\n",
       " [7059, 7674, 3571, 9355, 1534, 7853, 791, 1591],\n",
       " [5981, 2185, 7676, 791, 1376, 4495, 9604],\n",
       " [2756, 9711, 5811, 4780, 7853, 791, 4665],\n",
       " [791, 3381, 1471, 5072, 2530, 791, 8930],\n",
       " [8522, 6836, 2467, 8500, 5727],\n",
       " [1973, 9711, 7711, 5114, 3398, 7711],\n",
       " [5981, 9948, 9355, 7036, 7280, 3718],\n",
       " [791, 6619, 7674, 8906, 5070, 791, 8802],\n",
       " [1434, 1376, 4156, 5225, 2658, 5016],\n",
       " [7059, 9265, 2263, 7059, 4085, 791, 8943],\n",
       " [3332, 7674, 9129, 3679],\n",
       " [791, 350, 7674, 1264, 3429],\n",
       " [5981, 9811, 791, 7188, 5622, 5981, 391, 3758],\n",
       " [1434, 6669, 7676, 6423, 9355, 8657, 5680],\n",
       " [7059, 8180, 5421],\n",
       " [791, 8145, 6026, 2164, 5035],\n",
       " [1434, 1532, 8522, 3163, 2530, 2719],\n",
       " [791, 5343, 7674, 9049, 5072]]"
      ]
     },
     "execution_count": 16,
     "metadata": {},
     "output_type": "execute_result"
    }
   ],
   "source": [
    "one_hot_encoded"
   ]
  },
  {
   "cell_type": "code",
   "execution_count": 17,
   "metadata": {},
   "outputs": [],
   "source": [
    "## Word Embedding Representation\n",
    "\n",
    "from tensorflow.keras.layers import Embedding\n",
    "from tensorflow.keras.utils import pad_sequences ## for same vector size input\n",
    "from tensorflow.keras.models import Sequential\n",
    "import numpy as np\n"
   ]
  },
  {
   "cell_type": "code",
   "execution_count": 18,
   "metadata": {},
   "outputs": [],
   "source": [
    "sent_length=8"
   ]
  },
  {
   "cell_type": "code",
   "execution_count": null,
   "id": "45e3e034",
   "metadata": {},
   "outputs": [],
   "source": [
    "embedded_docs=pad_sequences(one_hot_encoded,padding='pre',maxlen=sent_length)"
   ]
  },
  {
   "cell_type": "code",
   "execution_count": 20,
   "id": "118f6948",
   "metadata": {},
   "outputs": [
    {
     "data": {
      "text/plain": [
       "array([[1434, 1513, 4087,  791, 6844, 2530,  791, 3559],\n",
       "       [   0,    0,    0,  791, 8805, 7674, 5011, 7559],\n",
       "       [7059, 7674, 3571, 9355, 1534, 7853,  791, 1591],\n",
       "       [   0, 5981, 2185, 7676,  791, 1376, 4495, 9604],\n",
       "       [   0, 2756, 9711, 5811, 4780, 7853,  791, 4665],\n",
       "       [   0,  791, 3381, 1471, 5072, 2530,  791, 8930],\n",
       "       [   0,    0,    0, 8522, 6836, 2467, 8500, 5727],\n",
       "       [   0,    0, 1973, 9711, 7711, 5114, 3398, 7711],\n",
       "       [   0,    0, 5981, 9948, 9355, 7036, 7280, 3718],\n",
       "       [   0,  791, 6619, 7674, 8906, 5070,  791, 8802],\n",
       "       [   0,    0, 1434, 1376, 4156, 5225, 2658, 5016],\n",
       "       [   0, 7059, 9265, 2263, 7059, 4085,  791, 8943],\n",
       "       [   0,    0,    0,    0, 3332, 7674, 9129, 3679],\n",
       "       [   0,    0,    0,  791,  350, 7674, 1264, 3429],\n",
       "       [5981, 9811,  791, 7188, 5622, 5981,  391, 3758],\n",
       "       [   0, 1434, 6669, 7676, 6423, 9355, 8657, 5680],\n",
       "       [   0,    0,    0,    0,    0, 7059, 8180, 5421],\n",
       "       [   0,    0,    0,  791, 8145, 6026, 2164, 5035],\n",
       "       [   0,    0, 1434, 1532, 8522, 3163, 2530, 2719],\n",
       "       [   0,    0,    0,  791, 5343, 7674, 9049, 5072]])"
      ]
     },
     "execution_count": 20,
     "metadata": {},
     "output_type": "execute_result"
    }
   ],
   "source": [
    "embedded_docs"
   ]
  },
  {
   "cell_type": "code",
   "execution_count": 22,
   "metadata": {},
   "outputs": [],
   "source": [
    "# feature representation\n",
    "dim=10"
   ]
  },
  {
   "cell_type": "code",
   "execution_count": 26,
   "metadata": {},
   "outputs": [],
   "source": [
    "# RNN  model Creation\n",
    "\n",
    "model=Sequential()\n",
    "model.add(Embedding(voc_size,dim,input_length=sent_length))\n",
    "model.compile('adam','mse')"
   ]
  },
  {
   "cell_type": "code",
   "execution_count": 27,
   "metadata": {},
   "outputs": [
    {
     "name": "stdout",
     "output_type": "stream",
     "text": [
      "Model: \"sequential_2\"\n",
      "_________________________________________________________________\n",
      " Layer (type)                Output Shape              Param #   \n",
      "=================================================================\n",
      " embedding_2 (Embedding)     (None, 8, 10)             100000    \n",
      "                                                                 \n",
      "=================================================================\n",
      "Total params: 100000 (390.62 KB)\n",
      "Trainable params: 100000 (390.62 KB)\n",
      "Non-trainable params: 0 (0.00 Byte)\n",
      "_________________________________________________________________\n"
     ]
    }
   ],
   "source": [
    "model.summary()"
   ]
  },
  {
   "cell_type": "code",
   "execution_count": null,
   "id": "2256b381",
   "metadata": {},
   "outputs": [
    {
     "name": "stdout",
     "output_type": "stream",
     "text": [
      "1/1 [==============================] - 0s 25ms/step\n"
     ]
    },
    {
     "data": {
      "text/plain": [
       "array([[[-4.54205275e-02, -4.67592143e-02,  1.17365122e-02, ...,\n",
       "          2.21838020e-02,  8.44119862e-03,  1.90646686e-02],\n",
       "        [ 2.59964503e-02,  1.54173635e-02,  8.60416889e-03, ...,\n",
       "         -2.43776795e-02,  4.41820659e-02, -1.92962419e-02],\n",
       "        [-2.01309845e-03,  3.62836979e-02, -2.33988892e-02, ...,\n",
       "         -1.77209452e-03, -3.58599536e-02,  3.80843319e-02],\n",
       "        ...,\n",
       "        [ 3.09417397e-03,  2.15181373e-02, -4.71195355e-02, ...,\n",
       "          1.56887881e-02, -8.53683800e-03, -1.11794099e-02],\n",
       "        [ 1.17808804e-02, -4.47756052e-02,  2.28198618e-03, ...,\n",
       "         -1.86382048e-02, -4.32948470e-02,  2.86632665e-02],\n",
       "        [ 1.26204975e-02, -1.84919126e-02,  2.05767788e-02, ...,\n",
       "         -4.42519560e-02, -2.55420450e-02, -2.71131881e-02]],\n",
       "\n",
       "       [[-3.73732448e-02,  1.16707906e-02,  3.26936357e-02, ...,\n",
       "         -1.37790814e-02, -4.97967601e-02,  2.12233104e-02],\n",
       "        [-3.73732448e-02,  1.16707906e-02,  3.26936357e-02, ...,\n",
       "         -1.37790814e-02, -4.97967601e-02,  2.12233104e-02],\n",
       "        [-3.73732448e-02,  1.16707906e-02,  3.26936357e-02, ...,\n",
       "         -1.37790814e-02, -4.97967601e-02,  2.12233104e-02],\n",
       "        ...,\n",
       "        [ 4.81131561e-02, -4.52975743e-02,  4.73115481e-02, ...,\n",
       "          3.37243564e-02,  1.54006369e-02,  4.95819114e-02],\n",
       "        [ 2.55978741e-02, -4.84827273e-02, -2.17413064e-02, ...,\n",
       "          2.44338997e-02,  1.79371350e-02,  1.88686959e-02],\n",
       "        [-3.58894095e-02, -4.76977974e-03,  3.02593596e-02, ...,\n",
       "         -3.95266637e-02,  3.35742719e-02,  4.86775972e-02]],\n",
       "\n",
       "       [[-4.75698225e-02,  4.52869423e-02,  2.61196233e-02, ...,\n",
       "         -4.30563465e-02,  1.80749334e-02, -4.34275642e-02],\n",
       "        [ 4.81131561e-02, -4.52975743e-02,  4.73115481e-02, ...,\n",
       "          3.37243564e-02,  1.54006369e-02,  4.95819114e-02],\n",
       "        [ 1.01979263e-02, -1.76466480e-02,  9.33520496e-05, ...,\n",
       "          4.50463183e-02, -3.85542735e-02, -1.66545138e-02],\n",
       "        ...,\n",
       "        [-3.52778919e-02, -2.42645666e-03, -1.65416822e-02, ...,\n",
       "          3.79295684e-02,  2.46272199e-02,  4.74699773e-02],\n",
       "        [ 1.17808804e-02, -4.47756052e-02,  2.28198618e-03, ...,\n",
       "         -1.86382048e-02, -4.32948470e-02,  2.86632665e-02],\n",
       "        [-4.82809208e-02, -1.17694028e-02, -2.70162355e-02, ...,\n",
       "          1.42926686e-02, -3.79471779e-02, -2.27165576e-02]],\n",
       "\n",
       "       ...,\n",
       "\n",
       "       [[-3.73732448e-02,  1.16707906e-02,  3.26936357e-02, ...,\n",
       "         -1.37790814e-02, -4.97967601e-02,  2.12233104e-02],\n",
       "        [-3.73732448e-02,  1.16707906e-02,  3.26936357e-02, ...,\n",
       "         -1.37790814e-02, -4.97967601e-02,  2.12233104e-02],\n",
       "        [-3.73732448e-02,  1.16707906e-02,  3.26936357e-02, ...,\n",
       "         -1.37790814e-02, -4.97967601e-02,  2.12233104e-02],\n",
       "        ...,\n",
       "        [-1.06381662e-02, -3.57800499e-02,  1.96531303e-02, ...,\n",
       "          4.55604307e-02,  3.00223567e-02, -3.56535316e-02],\n",
       "        [ 3.70044149e-02,  9.06137377e-03,  1.07361674e-02, ...,\n",
       "         -1.59818903e-02, -1.44392624e-02, -4.81790416e-02],\n",
       "        [-3.31905037e-02, -3.50239985e-02, -2.27149371e-02, ...,\n",
       "         -3.50153334e-02, -3.51218097e-02,  2.58015282e-02]],\n",
       "\n",
       "       [[-3.73732448e-02,  1.16707906e-02,  3.26936357e-02, ...,\n",
       "         -1.37790814e-02, -4.97967601e-02,  2.12233104e-02],\n",
       "        [-3.73732448e-02,  1.16707906e-02,  3.26936357e-02, ...,\n",
       "         -1.37790814e-02, -4.97967601e-02,  2.12233104e-02],\n",
       "        [-4.54205275e-02, -4.67592143e-02,  1.17365122e-02, ...,\n",
       "          2.21838020e-02,  8.44119862e-03,  1.90646686e-02],\n",
       "        ...,\n",
       "        [-1.58245675e-02, -2.09306721e-02, -1.09103918e-02, ...,\n",
       "         -2.39248406e-02,  1.88087337e-02,  3.51017155e-02],\n",
       "        [ 3.09417397e-03,  2.15181373e-02, -4.71195355e-02, ...,\n",
       "          1.56887881e-02, -8.53683800e-03, -1.11794099e-02],\n",
       "        [-5.93947247e-03,  3.98283638e-02,  3.56404819e-02, ...,\n",
       "          3.90055291e-02,  1.37625076e-02, -1.09374896e-02]],\n",
       "\n",
       "       [[-3.73732448e-02,  1.16707906e-02,  3.26936357e-02, ...,\n",
       "         -1.37790814e-02, -4.97967601e-02,  2.12233104e-02],\n",
       "        [-3.73732448e-02,  1.16707906e-02,  3.26936357e-02, ...,\n",
       "         -1.37790814e-02, -4.97967601e-02,  2.12233104e-02],\n",
       "        [-3.73732448e-02,  1.16707906e-02,  3.26936357e-02, ...,\n",
       "         -1.37790814e-02, -4.97967601e-02,  2.12233104e-02],\n",
       "        ...,\n",
       "        [ 4.81131561e-02, -4.52975743e-02,  4.73115481e-02, ...,\n",
       "          3.37243564e-02,  1.54006369e-02,  4.95819114e-02],\n",
       "        [ 2.43433826e-02,  7.21082836e-03,  4.94035520e-02, ...,\n",
       "          2.87435204e-03, -3.33630927e-02,  2.76850536e-03],\n",
       "        [-1.25159845e-02, -2.00713761e-02,  3.17819975e-02, ...,\n",
       "         -4.30996902e-02,  1.52799152e-02, -1.16098411e-02]]],\n",
       "      dtype=float32)"
      ]
     },
     "execution_count": 31,
     "metadata": {},
     "output_type": "execute_result"
    },
    {
     "ename": "",
     "evalue": "",
     "output_type": "error",
     "traceback": [
      "\u001b[1;31mThe Kernel crashed while executing code in the current cell or a previous cell. \n",
      "\u001b[1;31mPlease review the code in the cell(s) to identify a possible cause of the failure. \n",
      "\u001b[1;31mClick <a href='https://aka.ms/vscodeJupyterKernelCrash'>here</a> for more info. \n",
      "\u001b[1;31mView Jupyter <a href='command:jupyter.viewOutput'>log</a> for further details."
     ]
    }
   ],
   "source": [
    "model.predict(embedded_docs)"
   ]
  },
  {
   "cell_type": "code",
   "execution_count": 30,
   "id": "5c32160a",
   "metadata": {},
   "outputs": [
    {
     "data": {
      "text/plain": [
       "array([1434, 1513, 4087,  791, 6844, 2530,  791, 3559])"
      ]
     },
     "execution_count": 30,
     "metadata": {},
     "output_type": "execute_result"
    }
   ],
   "source": [
    "embedded_docs[0]"
   ]
  },
  {
   "cell_type": "code",
   "execution_count": 29,
   "id": "f44c83f8",
   "metadata": {},
   "outputs": [
    {
     "name": "stdout",
     "output_type": "stream",
     "text": [
      "1/1 [==============================] - 0s 70ms/step\n"
     ]
    },
    {
     "data": {
      "text/plain": [
       "array([[-0.04542053, -0.04675921,  0.01173651,  0.03528059, -0.02971457,\n",
       "        -0.04560058,  0.00928602,  0.0221838 ,  0.0084412 ,  0.01906467],\n",
       "       [ 0.02599645,  0.01541736,  0.00860417,  0.01935473,  0.03543473,\n",
       "        -0.01786507,  0.01125177, -0.02437768,  0.04418207, -0.01929624],\n",
       "       [-0.0020131 ,  0.0362837 , -0.02339889,  0.00186107,  0.0186731 ,\n",
       "        -0.01816456,  0.02737042, -0.00177209, -0.03585995,  0.03808433],\n",
       "       [ 0.01178088, -0.04477561,  0.00228199,  0.02671066,  0.04094378,\n",
       "         0.00016882,  0.02430153, -0.0186382 , -0.04329485,  0.02866327],\n",
       "       [-0.0249308 ,  0.00423225,  0.00689819, -0.00070424,  0.03030232,\n",
       "         0.03758395, -0.01545936,  0.00045142, -0.00417478,  0.02340602],\n",
       "       [ 0.00309417,  0.02151814, -0.04711954, -0.01161807, -0.02903156,\n",
       "        -0.01993864,  0.04570657,  0.01568879, -0.00853684, -0.01117941],\n",
       "       [ 0.01178088, -0.04477561,  0.00228199,  0.02671066,  0.04094378,\n",
       "         0.00016882,  0.02430153, -0.0186382 , -0.04329485,  0.02866327],\n",
       "       [ 0.0126205 , -0.01849191,  0.02057678, -0.00218721, -0.03259418,\n",
       "         0.04240357, -0.03887216, -0.04425196, -0.02554205, -0.02711319]],\n",
       "      dtype=float32)"
      ]
     },
     "execution_count": 29,
     "metadata": {},
     "output_type": "execute_result"
    }
   ],
   "source": [
    "model.predict(embedded_docs[0])"
   ]
  },
  {
   "cell_type": "code",
   "execution_count": null,
   "metadata": {},
   "outputs": [],
   "source": []
  }
 ],
 "metadata": {
  "kernelspec": {
   "display_name": "Python 3",
   "language": "python",
   "name": "python3"
  },
  "language_info": {
   "codemirror_mode": {
    "name": "ipython",
    "version": 3
   },
   "file_extension": ".py",
   "mimetype": "text/x-python",
   "name": "python",
   "nbconvert_exporter": "python",
   "pygments_lexer": "ipython3",
   "version": "3.10.0"
  }
 },
 "nbformat": 4,
 "nbformat_minor": 5
}
